{
  "nbformat": 4,
  "nbformat_minor": 0,
  "metadata": {
    "colab": {
      "provenance": []
    },
    "kernelspec": {
      "name": "python3",
      "display_name": "Python 3"
    },
    "language_info": {
      "name": "python"
    }
  },
  "cells": [
    {
      "cell_type": "markdown",
      "source": [
        "Task 1\n",
        "\n"
      ],
      "metadata": {
        "id": "LRP8tYzrUsVU"
      }
    },
    {
      "cell_type": "code",
      "execution_count": 1,
      "metadata": {
        "colab": {
          "base_uri": "https://localhost:8080/"
        },
        "id": "N6Jkz3e2TvtZ",
        "outputId": "b3984ca6-cac3-431f-d1ef-660dc7c64906"
      },
      "outputs": [
        {
          "output_type": "stream",
          "name": "stdout",
          "text": [
            "Output of AND gate for inputs [0, 0, 1, 1] and [0, 1, 0, 1] with threshold 2: [0, 0, 0, 1]\n",
            "Output of OR gate for inputs [0, 0, 1, 1] and [0, 1, 0, 1] with threshold 1: [0, 1, 1, 1]\n"
          ]
        }
      ],
      "source": [
        "def MCP_Neurons_AND(X1, X2, T):\n",
        "    \"\"\"\n",
        "    This functions implements basic AND operations with MCP Neuron for two inputs.\n",
        "    \"\"\"\n",
        "    assert len(X1) == len(X2), \"Input arrays must be of the same length\"\n",
        "    state_neuron = []\n",
        "    for x1, x2 in zip(X1, X2):\n",
        "        if x1 + x2 >= T:\n",
        "            state_neuron.append(1)\n",
        "        else:\n",
        "            state_neuron.append(0)\n",
        "    return state_neuron\n",
        "\n",
        "def MCP_Neurons_OR(X1, X2, T):\n",
        "    \"\"\"\n",
        "    This function implements basic OR operations with MCP Neuron for two inputs.\n",
        "    \"\"\"\n",
        "    assert len(X1) == len(X2), \"Input arrays must be of the same length\"\n",
        "    state_neuron = []\n",
        "    for x1, x2 in zip(X1, X2):\n",
        "        if x1 + x2 >= T:\n",
        "            state_neuron.append(1)\n",
        "        else:\n",
        "            state_neuron.append(0)\n",
        "    return state_neuron\n",
        "\n",
        "# Example usage for MCP_Neurons_AND function\n",
        "X1 = [0, 0, 1, 1]\n",
        "X2 = [0, 1, 0, 1]\n",
        "T_AND = 2  # Threshold value for AND gate\n",
        "result_and = MCP_Neurons_AND(X1, X2, T_AND)\n",
        "print(f\"Output of AND gate for inputs {X1} and {X2} with threshold {T_AND}: {result_and}\")\n",
        "\n",
        "# Example usage for MCP_Neurons_OR function\n",
        "T_OR = 1  # Threshold value for OR gate\n",
        "result_or = MCP_Neurons_OR(X1, X2, T_OR)\n",
        "print(f\"Output of OR gate for inputs {X1} and {X2} with threshold {T_OR}: {result_or}\")\n"
      ]
    },
    {
      "cell_type": "markdown",
      "source": [
        "Task 2"
      ],
      "metadata": {
        "id": "qmWSsY3NU_ny"
      }
    },
    {
      "cell_type": "markdown",
      "source": [
        "Loading the Dataset:"
      ],
      "metadata": {
        "id": "PhUYOEW_VgUP"
      }
    },
    {
      "cell_type": "code",
      "source": [
        "import pandas as pd\n",
        "import numpy as np\n",
        "import matplotlib.pyplot as plt\n",
        "\n",
        "# Load the dataset\n",
        "df_0_1 = pd.read_csv(\"/content/mnist_0_and_1.csv\")  # Update the path if needed\n",
        "\n",
        "# Extract features and labels\n",
        "X = df_0_1.drop(columns=[\"label\"]).values  # 784 pixels\n",
        "y = df_0_1[\"label\"].values  # Labels (0 or 1)\n",
        "\n",
        "# Check the shape of the features and labels\n",
        "print(\"Feature matrix shape:\", X.shape)\n",
        "print(\"Label vector shape:\", y.shape)\n",
        "\n",
        "# Initialize weights and bias\n",
        "weights = np.zeros(X.shape[1])  # 784 weights (one for each pixel)\n",
        "bias = 0\n",
        "learning_rate = 0.1\n",
        "epochs = 100\n",
        "\n",
        "# Perceptron Training\n",
        "for epoch in range(epochs):\n",
        "    total_errors = 0\n",
        "    for i in range(len(X)):\n",
        "        linear_output = np.dot(X[i], weights) + bias\n",
        "        prediction = 1 if linear_output >= 0 else 0\n",
        "        error = y[i] - prediction\n",
        "        if error != 0:\n",
        "            weights += learning_rate * error * X[i]\n",
        "            bias += learning_rate * error\n",
        "            total_errors += 1\n",
        "    print(f\"Epoch {epoch + 1}/{epochs} - Total Errors: {total_errors}\")\n",
        "    if total_errors == 0:\n",
        "        break\n",
        "\n",
        "# Evaluate the model\n",
        "predictions = [1 if np.dot(x, weights) + bias >= 0 else 0 for x in X]\n",
        "accuracy = np.mean(predictions == y)\n",
        "print(f\"Accuracy: {accuracy:.2%}\")\n",
        "\n",
        "# Visualize misclassified images\n",
        "misclassified_indices = [i for i in range(len(y)) if predictions[i] != y[i]]\n",
        "print(f\"Number of misclassified images: {len(misclassified_indices)}\")\n",
        "\n",
        "fig, axes = plt.subplots(2, 5, figsize=(10, 5))\n",
        "for i, ax in enumerate(axes.flat):\n",
        "    if i < len(misclassified_indices):\n",
        "        idx = misclassified_indices[i]\n",
        "        ax.imshow(X[idx].reshape(28, 28), cmap=\"gray\")\n",
        "        ax.set_title(f\"Label: {y[idx]} | Pred: {predictions[idx]}\")\n",
        "        ax.axis(\"off\")\n",
        "plt.tight_layout()\n",
        "plt.show()\n"
      ],
      "metadata": {
        "colab": {
          "base_uri": "https://localhost:8080/",
          "height": 801
        },
        "id": "bw54ehATU-9l",
        "outputId": "612ea3a5-cbb8-4ed5-e899-b80a2e673d51"
      },
      "execution_count": 3,
      "outputs": [
        {
          "output_type": "stream",
          "name": "stdout",
          "text": [
            "Feature matrix shape: (12665, 784)\n",
            "Label vector shape: (12665,)\n",
            "Epoch 1/100 - Total Errors: 42\n",
            "Epoch 2/100 - Total Errors: 23\n",
            "Epoch 3/100 - Total Errors: 17\n",
            "Epoch 4/100 - Total Errors: 17\n",
            "Epoch 5/100 - Total Errors: 13\n",
            "Epoch 6/100 - Total Errors: 9\n",
            "Epoch 7/100 - Total Errors: 3\n",
            "Epoch 8/100 - Total Errors: 6\n",
            "Epoch 9/100 - Total Errors: 14\n",
            "Epoch 10/100 - Total Errors: 10\n",
            "Epoch 11/100 - Total Errors: 6\n",
            "Epoch 12/100 - Total Errors: 3\n",
            "Epoch 13/100 - Total Errors: 0\n",
            "Accuracy: 100.00%\n",
            "Number of misclassified images: 0\n"
          ]
        },
        {
          "output_type": "display_data",
          "data": {
            "text/plain": [
              "<Figure size 1000x500 with 10 Axes>"
            ],
            "image/png": "[encoded data removed]"
          },
          "metadata": {}
        }
      ]
    },
    {
      "cell_type": "markdown",
      "source": [
        "Visualizing the Dataset:"
      ],
      "metadata": {
        "id": "GmtlwmiZVq8b"
      }
    },
    {
      "cell_type": "code",
      "source": [
        "# Visualizing the Dataset\n",
        "# Separate images for label 0 and label 1\n",
        "images_0 = X[y == 0]  # Get all images with label 0\n",
        "images_1 = X[y == 1]  # Get all images with label 1\n",
        "\n",
        "fig, axes = plt.subplots(2, 5, figsize=(10, 5))\n",
        "# Check if the arrays have the required amount of data\n",
        "if len(images_0) < 5 or len(images_1) < 5:\n",
        "    print(\"Error: Not enough images in images_0 or images_1 to plot 5 images.\")\n",
        "else:\n",
        "    for i in range(5):\n",
        "        # Plot digit 0\n",
        "        axes[0, i].imshow(images_0[i].reshape(28, 28), cmap=\"gray\")\n",
        "        axes[0, i].set_title(\"Label: 0\")\n",
        "        axes[0, i].axis(\"off\")\n",
        "        # Plot digit 1\n",
        "        axes[1, i].imshow(images_1[i].reshape(28, 28), cmap=\"gray\")\n",
        "        axes[1, i].set_title(\"Label: 1\")\n",
        "        axes[1, i].axis(\"off\")\n",
        "plt.suptitle(\"First 5 Images of 0 and 1 from MNIST Subset\")\n",
        "plt.show()"
      ],
      "metadata": {
        "colab": {
          "base_uri": "https://localhost:8080/",
          "height": 451
        },
        "id": "ONcN6WGuVuK7",
        "outputId": "0818c9db-858b-4d28-85fb-950c614162de"
      },
      "execution_count": 4,
      "outputs": [
        {
          "output_type": "display_data",
          "data": {
            "text/plain": [
              "<Figure size 1000x500 with 10 Axes>"
            ],
            "image/png": "[encoded data removed]"
          },
          "metadata": {}
        }
      ]
    },
    {
      "cell_type": "markdown",
      "source": [
        "Initialization of the Weights:"
      ],
      "metadata": {
        "id": "Ur4nqvR-WKQG"
      }
    },
    {
      "cell_type": "code",
      "source": [
        "# Initialize weights and bias\n",
        "weights = np.zeros(X.shape[1]) # 784 weights (one for each pixel)\n",
        "bias = 0\n",
        "learning_rate = 0.1\n",
        "epochs = 100"
      ],
      "metadata": {
        "id": "i55b05ISWKBx"
      },
      "execution_count": 5,
      "outputs": []
    },
    {
      "cell_type": "markdown",
      "source": [
        "Implementation Decision Function:"
      ],
      "metadata": {
        "id": "y23WXGr0W5Hj"
      }
    },
    {
      "cell_type": "code",
      "source": [
        "import numpy as np\n",
        "def decision_function(X, weights, bias):\n",
        "    \"\"\"\n",
        "    Compute the predicted labels for the input data.\n",
        "    Parameters:\n",
        "    - X: Features (input data) as a numpy array of shape (n_samples, n_features)\n",
        "    - weights: Updated weights after training\n",
        "    - bias: Updated bias after training\n",
        "    Returns:\n",
        "    - y_pred_all: The predicted labels for the input data\n",
        "    \"\"\"\n",
        "    predictions = np.dot(X, weights) + bias\n",
        "    # Activation function (step function)\n",
        "    y_pred_all = np.where(predictions >= 0, 1, 0)\n",
        "    return y_pred_all\n"
      ],
      "metadata": {
        "id": "drAKxJXYW5xl"
      },
      "execution_count": 8,
      "outputs": []
    },
    {
      "cell_type": "markdown",
      "source": [
        "Training the Perceptron:"
      ],
      "metadata": {
        "id": "f6tS0LkRXRDo"
      }
    },
    {
      "cell_type": "code",
      "source": [
        "import numpy as np\n",
        "\n",
        "def train_perceptron(X, y, weights, bias, learning_rate=0.1, epochs=100):\n",
        "    \"\"\"\n",
        "    Train the perceptron using the Perceptron Learning Algorithm.\n",
        "    Parameters:\n",
        "    - X: Features (input data) as a numpy array of shape (n_samples, n_features)\n",
        "    - y: Labels (true output) as a numpy array of shape (n_samples,)\n",
        "    - weights: Initial weights as a numpy array of shape (n_features,)\n",
        "    - bias: Initial bias value (scalar)\n",
        "    - learning_rate: Learning rate for weight updates (default is 0.1)\n",
        "    - epochs: Number of iterations to train the model (default is 100)\n",
        "    Returns:\n",
        "    - weights: Updated weights after training\n",
        "    - bias: Updated bias after training\n",
        "    - accuracy: Total correct predictions.\n",
        "    \"\"\"\n",
        "    for epoch in range(epochs):\n",
        "        total_correct = 0\n",
        "        for i in range(len(X)):\n",
        "            linear_output = np.dot(X[i], weights) + bias\n",
        "            prediction = 1 if linear_output >= 0 else 0\n",
        "            error = y[i] - prediction\n",
        "\n",
        "            # Update weights and bias only when there's an error\n",
        "            if error != 0:\n",
        "                weights += learning_rate * error * X[i]\n",
        "                bias += learning_rate * error\n",
        "            else:\n",
        "                total_correct += 1\n",
        "\n",
        "        # Calculate accuracy\n",
        "        accuracy = total_correct / len(X)\n",
        "        print(f\"Epoch {epoch + 1}/{epochs} - Accuracy: {accuracy:.2%}\")\n",
        "\n",
        "        # Stop early if perfect accuracy is reached\n",
        "        if total_correct == len(X):\n",
        "            print(\"Training converged early.\")\n",
        "            break\n",
        "\n",
        "    return weights, bias, accuracy\n"
      ],
      "metadata": {
        "id": "1cEyQ_j_XRkm"
      },
      "execution_count": 9,
      "outputs": []
    },
    {
      "cell_type": "markdown",
      "source": [
        "Training the Perceptron Algorithm:"
      ],
      "metadata": {
        "id": "2MNiy7HuXW9Y"
      }
    },
    {
      "cell_type": "code",
      "source": [
        "# After training the model with the perceptron_learning_algorithm\n",
        "weights, bias, accuracy = train_perceptron(X, y, weights, bias)\n",
        "# Evaluate the model using the new function\n",
        "print(\"The Final Accuracy is: \", accuracy)"
      ],
      "metadata": {
        "colab": {
          "base_uri": "https://localhost:8080/"
        },
        "id": "uOz8TBrBXWug",
        "outputId": "56b02818-0946-4a86-e12a-a1e3ed16fb01"
      },
      "execution_count": 10,
      "outputs": [
        {
          "output_type": "stream",
          "name": "stdout",
          "text": [
            "Epoch 1/100 - Accuracy: 100.00%\n",
            "Training converged early.\n",
            "The Final Accuracy is:  1.0\n"
          ]
        }
      ]
    },
    {
      "cell_type": "markdown",
      "source": [
        "Visualizing Misclassified Image:\n"
      ],
      "metadata": {
        "id": "9ucpt8AcX2wo"
      }
    },
    {
      "cell_type": "code",
      "source": [
        "import numpy as np\n",
        "import matplotlib.pyplot as plt\n",
        "\n",
        "# Get predictions for all data points\n",
        "predictions = np.dot(X, weights) + bias\n",
        "y_pred = np.where(predictions >= 0, 1, 0)\n",
        "\n",
        "# Calculate final accuracy\n",
        "final_accuracy = np.mean(y_pred == y)\n",
        "print(f\"Final Accuracy: {final_accuracy:.4f}\")\n",
        "\n",
        "# Step 5: Visualize Misclassified Images\n",
        "misclassified_idx = np.where(y_pred != y)[0]\n",
        "if len(misclassified_idx) > 0:\n",
        "    fig, axes = plt.subplots(2, 5, figsize=(10, 5))\n",
        "    for ax, idx in zip(axes.flat, misclassified_idx[:10]):  # Show 10 misclassified images\n",
        "        ax.imshow(X[idx].reshape(28, 28), cmap=\"gray\")\n",
        "        ax.set_title(f\"Pred: {y_pred[idx]}, True: {y[idx]}\")\n",
        "        ax.axis(\"off\")\n",
        "    plt.suptitle(\"Misclassified Images\")\n",
        "    plt.show()\n",
        "else:\n",
        "    print(\"All images were correctly classified!\")\n"
      ],
      "metadata": {
        "colab": {
          "base_uri": "https://localhost:8080/"
        },
        "id": "fFVR15B3X5S3",
        "outputId": "ed69dddf-deff-482c-d6b8-f2279d3c0e92"
      },
      "execution_count": 12,
      "outputs": [
        {
          "output_type": "stream",
          "name": "stdout",
          "text": [
            "Final Accuracy: 1.0000\n",
            "All images were correctly classified!\n"
          ]
        }
      ]
    },
    {
      "cell_type": "markdown",
      "source": [
        "Task 3:"
      ],
      "metadata": {
        "id": "Kz3PXbzPYMHr"
      }
    },
    {
      "cell_type": "code",
      "source": [
        "import numpy as np\n",
        "import matplotlib.pyplot as plt\n",
        "import pandas as pd\n"
      ],
      "metadata": {
        "id": "hA1WCUP9YOPy"
      },
      "execution_count": 13,
      "outputs": []
    },
    {
      "cell_type": "code",
      "source": [
        "# Load dataset\n",
        "data = pd.read_csv(\"mnist_3_and_5.csv\")\n",
        "\n",
        "# Separate features (X) and labels (y)\n",
        "X = data.iloc[:, :-1].values  # All columns except the last (pixel values)\n",
        "y = data.iloc[:, -1].values  # The last column (labels)\n",
        "\n",
        "# Convert labels: 3 -> 1, 5 -> 0\n",
        "y = np.where(y == 3, 1, 0)\n"
      ],
      "metadata": {
        "id": "P2UZoMk1YUjq"
      },
      "execution_count": 14,
      "outputs": []
    },
    {
      "cell_type": "code",
      "source": [
        "# Normalize the pixel values to range [0, 1]\n",
        "X = X / 255.0\n"
      ],
      "metadata": {
        "id": "kwKFQTn_YWxD"
      },
      "execution_count": 15,
      "outputs": []
    },
    {
      "cell_type": "code",
      "source": [
        "# Initialize weights and bias\n",
        "weights = np.zeros(X.shape[1])  # Number of features = 784 for MNIST\n",
        "bias = 0\n",
        "learning_rate = 0.1\n",
        "n_epochs = 10  # Number of epochs for training\n"
      ],
      "metadata": {
        "id": "lk3QXPTTYY3M"
      },
      "execution_count": 16,
      "outputs": []
    },
    {
      "cell_type": "code",
      "source": [
        "# Perceptron Algorithm\n",
        "for epoch in range(n_epochs):\n",
        "    for i in range(X.shape[0]):\n",
        "        # Compute the activation\n",
        "        activation = np.dot(X[i], weights) + bias\n",
        "\n",
        "        # Make prediction\n",
        "        y_pred = 1 if activation >= 0 else 0\n",
        "\n",
        "        # Update the weights and bias if there is a misclassification\n",
        "        if y_pred != y[i]:\n",
        "            weights += learning_rate * (y[i] - y_pred) * X[i]\n",
        "            bias += learning_rate * (y[i] - y_pred)\n",
        "\n",
        "    # Optionally print the accuracy after each epoch\n",
        "    predictions = np.where(np.dot(X, weights) + bias >= 0, 1, 0)\n",
        "    accuracy = np.mean(predictions == y)\n",
        "    print(f\"Epoch {epoch + 1}: Accuracy = {accuracy:.4f}\")\n"
      ],
      "metadata": {
        "colab": {
          "base_uri": "https://localhost:8080/"
        },
        "id": "W1T3InHGYbD0",
        "outputId": "6c57bd1c-8d72-4949-d649-ca8c16448fd9"
      },
      "execution_count": 17,
      "outputs": [
        {
          "output_type": "stream",
          "name": "stdout",
          "text": [
            "Epoch 1: Accuracy = 1.0000\n",
            "Epoch 2: Accuracy = 1.0000\n",
            "Epoch 3: Accuracy = 1.0000\n",
            "Epoch 4: Accuracy = 1.0000\n",
            "Epoch 5: Accuracy = 1.0000\n",
            "Epoch 6: Accuracy = 1.0000\n",
            "Epoch 7: Accuracy = 1.0000\n",
            "Epoch 8: Accuracy = 1.0000\n",
            "Epoch 9: Accuracy = 1.0000\n",
            "Epoch 10: Accuracy = 1.0000\n"
          ]
        }
      ]
    },
    {
      "cell_type": "code",
      "source": [
        "# Get predictions\n",
        "predictions = np.where(np.dot(X, weights) + bias >= 0, 1, 0)\n",
        "\n",
        "# Calculate accuracy\n",
        "accuracy = np.mean(predictions == y)\n",
        "print(f\"Final Accuracy: {accuracy:.4f}\")\n",
        "\n",
        "# Visualize Misclassified Images\n",
        "misclassified_idx = np.where(predictions != y)[0]\n",
        "if len(misclassified_idx) > 0:\n",
        "    fig, axes = plt.subplots(2, 5, figsize=(10, 5))\n",
        "    for ax, idx in zip(axes.flat, misclassified_idx[:10]):  # Show 10 misclassified images\n",
        "        ax.imshow(X[idx].reshape(28, 28), cmap=\"gray\")\n",
        "        ax.set_title(f\"Pred: {predictions[idx]}, True: {y[idx]}\")\n",
        "        ax.axis(\"off\")\n",
        "    plt.suptitle(\"Misclassified Images\")\n",
        "    plt.show()\n",
        "else:\n",
        "    print(\"All images were correctly classified!\")\n"
      ],
      "metadata": {
        "colab": {
          "base_uri": "https://localhost:8080/"
        },
        "id": "Ut9_YzAfYdN2",
        "outputId": "1edefb20-758a-4198-8b1a-c7387e7056c6"
      },
      "execution_count": 18,
      "outputs": [
        {
          "output_type": "stream",
          "name": "stdout",
          "text": [
            "Final Accuracy: 1.0000\n",
            "All images were correctly classified!\n"
          ]
        }
      ]
    },
    {
      "cell_type": "code",
      "source": [],
      "metadata": {
        "id": "7YUH_y1tYfM7"
      },
      "execution_count": null,
      "outputs": []
    }
  ]
}